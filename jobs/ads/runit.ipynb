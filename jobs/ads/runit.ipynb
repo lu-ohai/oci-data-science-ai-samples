{
 "cells": [
  {
   "cell_type": "code",
   "execution_count": 1,
   "metadata": {},
   "outputs": [
    {
     "name": "stderr",
     "output_type": "stream",
     "text": [
      "/Users/lypelov/anaconda/envs/ads_280_clone/lib/python3.8/site-packages/tqdm/auto.py:22: TqdmWarning: IProgress not found. Please update jupyter and ipywidgets. See https://ipywidgets.readthedocs.io/en/stable/user_install.html\n",
      "  from .autonotebook import tqdm as notebook_tqdm\n"
     ]
    },
    {
     "name": "stdout",
     "output_type": "stream",
     "text": [
      "Creating MLJob for hello_world_job.py...\n",
      "Launching Job Run...\n",
      "Job OCID: ocid1.datasciencejob.oc1.iad.amaaaaaanif7xwia2tkd5y2skd4b5lvczgmwrj5mro7le33f64zsu26krz2a\n",
      "Job Run OCID: ocid1.datasciencejobrun.oc1.iad.amaaaaaanif7xwianaiwe5x7waz2j4zeliobtngby2jxb6cn4jij4gym5b5q\n",
      "2023-04-05 15:10:16 - Job Run ACCEPTED\n",
      "2023-04-05 15:10:23 - Job Run ACCEPTED, Infrastructure provisioning.\n",
      "2023-04-05 15:11:12 - Job Run ACCEPTED, Infrastructure provisioned.\n",
      "2023-04-05 15:11:45 - Job Run ACCEPTED, Job run bootstrap starting.\n",
      "2023-04-05 15:13:28 - Job Run ACCEPTED, Job run bootstrap complete. Artifact execution starting.\n",
      "2023-04-05 15:13:32 - Job Run IN_PROGRESS, Job run artifact execution in progress.\n",
      "2023-04-05 15:13:31 - Hello world!\n",
      "2023-04-05 15:13:34 - Job Done.\n",
      "2023-04-05 15:13:34 - current path: /home/datascience/decompressed_artifact\n",
      "2023-04-05 15:13:59 - Job Run SUCCEEDED, Job run artifact execution succeeded. Infrastructure de-provisioning.\n"
     ]
    }
   ],
   "source": [
    "from run import run_and_monitor\n",
    "\n",
    "# notice that you have to specify the location of your file.\n",
    "run_and_monitor(\"hello_world_job.py\")"
   ]
  }
 ],
 "metadata": {
  "kernelspec": {
   "display_name": "ads_280_clone",
   "language": "python",
   "name": "python3"
  },
  "language_info": {
   "codemirror_mode": {
    "name": "ipython",
    "version": 3
   },
   "file_extension": ".py",
   "mimetype": "text/x-python",
   "name": "python",
   "nbconvert_exporter": "python",
   "pygments_lexer": "ipython3",
   "version": "3.8.16"
  },
  "orig_nbformat": 4
 },
 "nbformat": 4,
 "nbformat_minor": 2
}
