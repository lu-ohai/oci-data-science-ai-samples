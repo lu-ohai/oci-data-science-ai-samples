{
 "cells": [
  {
   "cell_type": "markdown",
   "id": "71fed8ce",
   "metadata": {},
   "source": [
    "<font color=gray>Oracle Cloud Infrastructure Data Science Sample Notebook\n",
    "\n",
    "Copyright (c) 2021, 2023 Oracle, Inc.  All rights reserved. <br>\n",
    "Licensed under the Universal Permissive License v 1.0 as shown at https://oss.oracle.com/licenses/upl.\n",
    "</font>"
   ]
  },
  {
   "cell_type": "markdown",
   "id": "25c3a422",
   "metadata": {},
   "source": [
    "# Uploading Larger Size Model Artifact Using Oracle ADS Library \n",
    "\n",
    "This notebook demonstrates simple solution for Oracle ADS Library which allows data scientists to upload larger model artifacts and eliminate the timeout error that is experienced by most folks when the artifact is large. It shows end-to-end steps from setting up the configuration till uploading the model artifact."
   ]
  },
  {
   "cell_type": "markdown",
   "id": "92524c9b",
   "metadata": {},
   "source": [
    "## Pre-requisites to Running this Notebook "
   ]
  },
  {
   "cell_type": "markdown",
   "id": "9325ef67",
   "metadata": {},
   "source": [
    "* We recommend that you run this notebook in a notebook session using a conda environment that has ADS version 2.8.10 installed"
   ]
  },
  {
   "cell_type": "code",
   "execution_count": null,
   "id": "762b5af0",
   "metadata": {},
   "outputs": [],
   "source": [
    "from sklearn.ensemble import RandomForestClassifier\n",
    "from sklearn.datasets import make_classification\n",
    "from sklearn.model_selection import train_test_split\n",
    "import ads\n",
    "import os"
   ]
  },
  {
   "cell_type": "code",
   "execution_count": 6,
   "id": "e49fd60d",
   "metadata": {},
   "outputs": [],
   "source": [
    "# Switch to 'api_key' if you prefer user principal (config + key file) as a method of authentication. \n",
    "# In this notebook, we are using resource principal. \n",
    "ads.set_auth(auth='resource_principal')"
   ]
  },
  {
   "cell_type": "code",
   "execution_count": null,
   "id": "3d233e6a",
   "metadata": {},
   "outputs": [],
   "source": [
    "seed = 42\n",
    "# make some classification data\n",
    "X, y = make_classification(n_samples=10000, n_features=15, n_classes=2, flip_y=0.05)\n",
    "trainx, testx, trainy, testy = train_test_split(X, y, test_size=30, random_state=seed)\n",
    "model = RandomForestClassifier(\n",
    "        n_estimators=100, random_state=42\n",
    "    )\n",
    "# train a random forest classifier\n",
    "model.fit(\n",
    "        trainx,\n",
    "        trainy,\n",
    "    )"
   ]
  },
  {
   "cell_type": "code",
   "execution_count": null,
   "id": "806be96f",
   "metadata": {},
   "outputs": [],
   "source": [
    "# Prepare the model artifacts\n",
    "from ads.model.framework.sklearn_model import SklearnModel\n",
    "from ads.common.model_metadata import UseCaseType\n",
    "\n",
    "sklearn_model = SklearnModel(estimator=model, artifact_dir=\"~/sklearn_artifact_dir\")\n",
    "sklearn_model.prepare(\n",
    "    inference_conda_env=\"generalml_p38_cpu_v1\",\n",
    "    training_conda_env=\"generalml_p38_cpu_v1\",\n",
    "    X_sample=trainx,\n",
    "    y_sample=trainy,\n",
    "    use_case_type=UseCaseType.BINARY_CLASSIFICATION,\n",
    ")"
   ]
  },
  {
   "cell_type": "code",
   "execution_count": null,
   "id": "fb2f9ac7",
   "metadata": {},
   "outputs": [],
   "source": [
    "# Saving the model artifact to the model catalog:\n",
    "mc_model = sklearn_model.save(project_id=os.environ['PROJECT_OCID'],\n",
    "                                  compartment_id=os.environ['NB_SESSION_COMPARTMENT_OCID'],\n",
    "                                  training_id=os.environ['NB_SESSION_OCID'],\n",
    "                                  display_name=\"<replace-with-your-display-name>\",\n",
    "                                  description=\"<replace-with-description>\",\n",
    "                                  ignore_pending_changes=True,\n",
    "                                  ignore_introspection=True,\n",
    "                                  bucket_uri=\"oci://<replace-with-your-bucket-name>\",\n",
    "                                 )\n",
    "mc_model"
   ]
  },
  {
   "cell_type": "code",
   "execution_count": null,
   "id": "4cf65362",
   "metadata": {},
   "outputs": [],
   "source": []
  }
 ],
 "metadata": {
  "kernelspec": {
   "display_name": "ads_testing",
   "language": "python",
   "name": "python3"
  },
  "language_info": {
   "codemirror_mode": {
    "name": "ipython",
    "version": 3
   },
   "file_extension": ".py",
   "mimetype": "text/x-python",
   "name": "python",
   "nbconvert_exporter": "python",
   "pygments_lexer": "ipython3",
   "version": "3.8.18"
  }
 },
 "nbformat": 4,
 "nbformat_minor": 5
}
