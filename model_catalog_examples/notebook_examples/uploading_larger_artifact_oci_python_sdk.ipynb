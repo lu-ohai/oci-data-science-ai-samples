{
 "cells": [
  {
   "cell_type": "markdown",
   "id": "b19f40c0",
   "metadata": {},
   "source": [
    "<font color=gray>Oracle Cloud Infrastructure Data Science Sample Notebook\n",
    "\n",
    "Copyright (c) 2021 Oracle, Inc.  All rights reserved. <br>\n",
    "Licensed under the Universal Permissive License v 1.0 as shown at https://oss.oracle.com/licenses/upl.\n",
    "</font>"
   ]
  },
  {
   "cell_type": "markdown",
   "id": "0bd43e09",
   "metadata": {},
   "source": [
    "# Uploading Larger Size Model Artifact Using OCI Python SDK \n",
    "\n",
    "This notebook demonstrates simple solution for OCI Python SDK which allows data scientists to upload larger model artifacts and eliminate the timeout error that is experienced by data scientists when the artifact is large. It shows end-to-end steps from setting up the configuration till uploading the model artifact."
   ]
  },
  {
   "cell_type": "markdown",
   "id": "2e0dc221",
   "metadata": {},
   "source": [
    "## Pre-requisites to Running this Notebook "
   ]
  },
  {
   "cell_type": "markdown",
   "id": "9df3b807",
   "metadata": {},
   "source": [
    "* We recommend that you run this notebook in an OCI Data Science Notebook Session. Use a conda environment that has a `oci>=2.43.2`. You can always upgrade oci by executing `!pip install oci --upgrade` in your notebook cell. \n",
    "* You need access to the public internet"
   ]
  },
  {
   "cell_type": "code",
   "execution_count": null,
   "id": "ffaffec0",
   "metadata": {},
   "outputs": [],
   "source": [
    "import os\n",
    "import logging\n",
    "import json\n",
    "\n",
    "import oci\n",
    "from oci.data_science import DataScienceClient\n",
    "from oci.data_science.models import CreateModelDetails, CreateProjectDetails, \\\n",
    "    CreateModelProvenanceDetails, Project, Model, UpdateModelDetails\n",
    "\n",
    "data_science_models = oci.data_science.models"
   ]
  },
  {
   "cell_type": "code",
   "execution_count": null,
   "id": "d6282168",
   "metadata": {},
   "outputs": [],
   "source": [
    "print(oci.__version__)"
   ]
  },
  {
   "cell_type": "code",
   "execution_count": null,
   "id": "ed7d9cc7",
   "metadata": {},
   "outputs": [],
   "source": [
    "# here we assume that you are authenticating with OCI resources using user principals (config + key)\n",
    "# set resource_principal == True if you are using resource principal instead of user principal \n",
    "resource_principal = False\n",
    "\n",
    "if not resource_principal: \n",
    "    config = oci.config.from_file()\n",
    "    data_science = DataScienceClient(config)\n",
    "else: \n",
    "    config = {}\n",
    "    auth = oci.auth.signers.get_resource_principals_signer()\n",
    "    data_science = DataScienceClient(config, signer=auth)"
   ]
  },
  {
   "cell_type": "code",
   "execution_count": null,
   "id": "d541e0fa",
   "metadata": {},
   "outputs": [],
   "source": [
    "# Creating the metadata about the model: \n",
    "create_model_details_object = data_science_models.CreateModelDetails()\n",
    "create_model_details_object.compartment_id = os.environ['NB_SESSION_COMPARTMENT_OCID']\n",
    "create_model_details_object.display_name = f\"<replace-with-your-object-display-name>\"\n",
    "create_model_details_object.project_id = os.environ['PROJECT_OCID']"
   ]
  },
  {
   "cell_type": "code",
   "execution_count": null,
   "id": "5bec2e62",
   "metadata": {},
   "outputs": [],
   "source": [
    "# create the model object: \n",
    "model = data_science.create_model(create_model_details_object)"
   ]
  },
  {
   "cell_type": "code",
   "execution_count": null,
   "id": "18fc308e",
   "metadata": {},
   "outputs": [],
   "source": [
    "# print the model OCID: \n",
    "model_id = json.loads(str(model.data))['id']\n",
    "print(model_id)"
   ]
  },
  {
   "cell_type": "code",
   "execution_count": null,
   "id": "233897e7",
   "metadata": {},
   "outputs": [],
   "source": [
    "# next we download a sample boilerplate model artifact and setting the model artifact path. \n",
    "!wget https://github.com/oracle/oci-data-science-ai-samples/blob/master/model_catalog_examples/artifact_boilerplate/artifact_boilerplate.zip \n",
    "artifact_path = 'artifact_boilerplate.zip'"
   ]
  },
  {
   "cell_type": "code",
   "execution_count": null,
   "id": "229aef11",
   "metadata": {},
   "outputs": [],
   "source": [
    "with open(artifact_path,'rb') as artifact_file:\n",
    "    data_science.create_model_artifact(model_id,\n",
    "                                       artifact_file,\n",
    "                                       content_disposition='attachment; filename=\"{artifact_path}\"')"
   ]
  },
  {
   "cell_type": "code",
   "execution_count": null,
   "id": "3f2eb4cd",
   "metadata": {},
   "outputs": [],
   "source": [
    "# Go to the OCI Console and confirm that your model was successfully created. "
   ]
  }
 ],
 "metadata": {
  "kernelspec": {
   "display_name": "Python [conda env:dataexpl_p37_cpu_v2]",
   "language": "python",
   "name": "conda-env-dataexpl_p37_cpu_v2-py"
  },
  "language_info": {
   "codemirror_mode": {
    "name": "ipython",
    "version": 3
   },
   "file_extension": ".py",
   "mimetype": "text/x-python",
   "name": "python",
   "nbconvert_exporter": "python",
   "pygments_lexer": "ipython3",
   "version": "3.7.10"
  }
 },
 "nbformat": 4,
 "nbformat_minor": 5
}
